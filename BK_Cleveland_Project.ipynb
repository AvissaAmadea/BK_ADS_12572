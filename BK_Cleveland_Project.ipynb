{
  "nbformat": 4,
  "nbformat_minor": 0,
  "metadata": {
    "colab": {
      "provenance": []
    },
    "kernelspec": {
      "name": "python3",
      "display_name": "Python 3"
    },
    "language_info": {
      "name": "python"
    }
  },
  "cells": [
    {
      "cell_type": "markdown",
      "source": [
        "# Project Bimbingan Karir Data Science\n",
        "Nama : Avissa Aurellia Amadea <br>\n",
        "NIM  : A11.2020.12572"
      ],
      "metadata": {
        "id": "_cUR2eqzmKeU"
      }
    },
    {
      "cell_type": "markdown",
      "source": [
        "*   [1) Pengumpulan Data](#Pengumpulan-Data)\n",
        "*   [2) Menelaah Data](#Menelaah-Data)\n",
        "\n",
        "*   [3) Validasi Data](#Validasi-Data)\n",
        "*   [4) Menentukan Object Data](#Menentukan-Object-Data)\n",
        "\n",
        "*   [5) Membersihkan Data](#Membersihkan-Data)\n",
        "*   [6) Konstruksi Data](#Konstruksi-Data)\n",
        "\n",
        "*   [7) Modelling](#Modelling)\n",
        "*   [8) Evaluasi](#Evaluasi)\n",
        "\n",
        "*   [9) Streamlit](#Streamlit)\n",
        "*   [10) Kesimpulan](#Kesimpulan)"
      ],
      "metadata": {
        "id": "h3F7_8iBmMf7"
      }
    },
    {
      "cell_type": "markdown",
      "source": [
        "## 1) Pengumpulan Data"
      ],
      "metadata": {
        "id": "-vwYffKWmR90"
      }
    },
    {
      "cell_type": "markdown",
      "source": [
        "Dataset dengan nama file \"cleveland.data\" bersumber dari link berikut : https://archive.ics.uci.edu/dataset/45/heart+disease"
      ],
      "metadata": {
        "id": "B5I7cp5amVmD"
      }
    },
    {
      "cell_type": "markdown",
      "source": [
        "## 2) Menelaah Data"
      ],
      "metadata": {
        "id": "qmic71CrmZDL"
      }
    },
    {
      "cell_type": "code",
      "execution_count": null,
      "metadata": {
        "id": "x-fjL0tpl5TC"
      },
      "outputs": [],
      "source": []
    }
  ]
}